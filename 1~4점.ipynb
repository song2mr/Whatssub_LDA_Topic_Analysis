{
 "cells": [
  {
   "cell_type": "code",
   "execution_count": 4,
   "id": "8d9129e1",
   "metadata": {},
   "outputs": [],
   "source": [
    "import pandas as pd\n",
    "import matplotlib.pyplot as plt\n",
    "import numpy as np\n",
    "import seaborn as sns\n",
    "from gensim.models.ldamodel import LdaModel\n",
    "from gensim.models.callbacks import CoherenceMetric\n",
    "from gensim import corpora\n",
    "from gensim.models.callbacks import PerplexityMetric\n",
    "sns.set(font=\"Malgun Gothic\", \n",
    "        rc={\"axes.unicode_minus\":False},\n",
    "        style='darkgrid')\n"
   ]
  },
  {
   "cell_type": "code",
   "execution_count": 5,
   "id": "ab2625dc",
   "metadata": {},
   "outputs": [],
   "source": [
    "Data= pd.read_excel('(2022-11-21)_왓섭.xlsx')\n",
    "Data=Data[Data['별점']<=4]"
   ]
  },
  {
   "cell_type": "markdown",
   "id": "d1b552e8",
   "metadata": {},
   "source": [
    "## Bar plot"
   ]
  },
  {
   "cell_type": "code",
   "execution_count": 6,
   "id": "28dac7f4",
   "metadata": {},
   "outputs": [],
   "source": [
    "df_count=pd.DataFrame(Data.groupby('별점')['리뷰내용'].count()).reset_index()"
   ]
  },
  {
   "cell_type": "code",
   "execution_count": 7,
   "id": "4e17758a",
   "metadata": {
    "scrolled": true
   },
   "outputs": [
    {
     "data": {
      "image/png": "[encoded data removed]",
      "text/plain": [
       "<Figure size 1152x576 with 1 Axes>"
      ]
     },
     "metadata": {},
     "output_type": "display_data"
    }
   ],
   "source": [
    "plt.figure(figsize=(16,8))\n",
    "plt.bar(df_count['별점'],df_count['리뷰내용'])\n",
    "plt.title('별점 개수')\n",
    "plt.show()"
   ]
  },
  {
   "cell_type": "markdown",
   "id": "ea97216d",
   "metadata": {},
   "source": [
    "## LDA\n",
    "참고: https://happy-obok.tistory.com/5 / https://dacon.io/competitions/official/235590/codeshare/1078"
   ]
  },
  {
   "cell_type": "code",
   "execution_count": 8,
   "id": "3a6cfb20",
   "metadata": {},
   "outputs": [],
   "source": [
    "from gensim import corpora"
   ]
  },
  {
   "cell_type": "code",
   "execution_count": 9,
   "id": "7b57363b",
   "metadata": {},
   "outputs": [
    {
     "data": {
      "text/html": [
       "<div>\n",
       "<style scoped>\n",
       "    .dataframe tbody tr th:only-of-type {\n",
       "        vertical-align: middle;\n",
       "    }\n",
       "\n",
       "    .dataframe tbody tr th {\n",
       "        vertical-align: top;\n",
       "    }\n",
       "\n",
       "    .dataframe thead th {\n",
       "        text-align: right;\n",
       "    }\n",
       "</style>\n",
       "<table border=\"1\" class=\"dataframe\">\n",
       "  <thead>\n",
       "    <tr style=\"text-align: right;\">\n",
       "      <th></th>\n",
       "      <th>count</th>\n",
       "    </tr>\n",
       "  </thead>\n",
       "  <tbody>\n",
       "    <tr>\n",
       "      <th>4</th>\n",
       "      <td>15</td>\n",
       "    </tr>\n",
       "    <tr>\n",
       "      <th>1</th>\n",
       "      <td>44</td>\n",
       "    </tr>\n",
       "    <tr>\n",
       "      <th>2</th>\n",
       "      <td>15</td>\n",
       "    </tr>\n",
       "    <tr>\n",
       "      <th>3</th>\n",
       "      <td>24</td>\n",
       "    </tr>\n",
       "  </tbody>\n",
       "</table>\n",
       "</div>"
      ],
      "text/plain": [
       "   count\n",
       "4     15\n",
       "1     44\n",
       "2     15\n",
       "3     24"
      ]
     },
     "execution_count": 9,
     "metadata": {},
     "output_type": "execute_result"
    }
   ],
   "source": [
    "#특정 열의 값 별 몇 개의 행이 있는지 세기\n",
    "\n",
    "element_count = {}\n",
    "\n",
    "for item in Data['별점']:\n",
    "    element_count.setdefault(item,0)\n",
    "    element_count[item] += 1\n",
    "    \n",
    "count = pd.DataFrame.from_dict(element_count, orient = 'index',columns=[\"count\"])\n",
    "count"
   ]
  },
  {
   "cell_type": "code",
   "execution_count": 10,
   "id": "81f28564",
   "metadata": {},
   "outputs": [
    {
     "name": "stdout",
     "output_type": "stream",
     "text": [
      "False\n"
     ]
    }
   ],
   "source": [
    "#데이터 프레임의 'text' 열의 값들을 str 형식으로 바꾸기\n",
    "Data.별점 = Data.별점.astype(str)\n",
    "\n",
    "#text와 timestamp 열을 기준으로 중복된 데이터를 삭제, inplace : 데이터 프레임을 변경할지 선택(원본을 대체)\n",
    "#Data.drop_duplicates(subset=['text','timestamp'], inplace=True)\n",
    "\n",
    "#한글이 아니면 빈 문자열로 바꾸기\n",
    "Data['리뷰내용'] = Data['리뷰내용'].str.replace('[^ㄱ-ㅎㅏ-ㅣ가-힣]',' ',regex=True)\n",
    "\n",
    "#빈 문자열 NAN 값으로 바꾸기\n",
    "Data = Data.replace({'': np.nan})\n",
    "Data = Data.replace(r'^\\s*$', None, regex=True)\n",
    "\n",
    "#NAN 이 있는 행은 삭제\n",
    "Data.dropna(how='any', inplace=True)\n",
    "\n",
    "#인덱스 차곡차곡\n",
    "Data = Data.reset_index (drop = True)\n",
    "\n",
    "#데이터 프레임에 null 값이 있는지 확인\n",
    "print(Data.isnull().values.any()) "
   ]
  },
  {
   "cell_type": "code",
   "execution_count": 11,
   "id": "840e7d16",
   "metadata": {},
   "outputs": [],
   "source": [
    "#텍스트 데이터를 리스트로 변환\n",
    "Data_list=Data['리뷰내용'].values.tolist()"
   ]
  },
  {
   "cell_type": "code",
   "execution_count": 12,
   "id": "79cf3a72",
   "metadata": {},
   "outputs": [],
   "source": [
    "#pip install konlpy\n",
    "#konlpy 설치"
   ]
  },
  {
   "cell_type": "code",
   "execution_count": 13,
   "id": "587bda21",
   "metadata": {
    "scrolled": true
   },
   "outputs": [],
   "source": [
    "from konlpy.tag import Kkma\n",
    "kkma=Kkma()\n",
    "#https://mr-doosun.tistory.com/22"
   ]
  },
  {
   "cell_type": "code",
   "execution_count": 14,
   "id": "c5c6b54e",
   "metadata": {},
   "outputs": [],
   "source": [
    "#텍스트 데이터를 리스트로 변환\n",
    "Data_list=Data.리뷰내용.values.tolist()\n",
    "#리스트를 요소별로(트윗 하나) 가져와서 명사만 추출한 후 리스트로 저장\n",
    "data_word=[]\n",
    "for i in range(len(Data_list)):\n",
    "    try:\n",
    "        data_word.append(kkma.nouns(Data_list[i]))\n",
    "    except Exception as e:\n",
    "        continue\n",
    "\n",
    "#data_word"
   ]
  },
  {
   "cell_type": "code",
   "execution_count": 15,
   "id": "16ca5d44",
   "metadata": {},
   "outputs": [],
   "source": [
    "#pip install gensim\n",
    "\n",
    "from collections import Counter\n",
    "from konlpy.tag import Okt\n",
    "okt = Okt()\n",
    "%matplotlib inline\n",
    "import matplotlib.pyplot as plt\n",
    "import re \n",
    "import gensim\n",
    "from gensim import corpora, models\n",
    "from gensim.models import CoherenceModel "
   ]
  },
  {
   "cell_type": "markdown",
   "id": "75cc2d92",
   "metadata": {},
   "source": [
    "mallet 설정: https://github.com/RaRe-Technologies/gensim/issues/2163"
   ]
  },
  {
   "cell_type": "code",
   "execution_count": 16,
   "id": "b142bb4c",
   "metadata": {},
   "outputs": [],
   "source": [
    "import os\n",
    "os.environ.update({'MALLET_HOME':r'C:/mallet-2.0.8/'})\n",
    "\n",
    "mallet_path = 'C:/mallet-2.0.8/bin/mallet'"
   ]
  },
  {
   "cell_type": "code",
   "execution_count": 17,
   "id": "25c1bde8",
   "metadata": {},
   "outputs": [],
   "source": [
    "id2word=corpora.Dictionary(data_word)\n",
    "id2word.filter_extremes(no_below = 3) #3회 이하로 등장한 단어는 삭제\n",
    "texts = data_word\n",
    "corpus=[id2word.doc2bow(text) for text in texts]\n",
    "\n",
    "#mallet_path = 'C:\\\\mallet-2.0.8\\\\bin\\\\mallet'\n",
    "ldamallet = gensim.models.wrappers.LdaMallet(mallet_path, corpus=corpus, num_topics=10, id2word=id2word)"
   ]
  },
  {
   "cell_type": "code",
   "execution_count": 18,
   "id": "d569c2e1",
   "metadata": {},
   "outputs": [],
   "source": [
    "coherence_model_ldamallet = CoherenceModel(model=ldamallet, texts=texts, dictionary=id2word, coherence='c_v')\n",
    "coherence_ldamallet = coherence_model_ldamallet.get_coherence()\n",
    "\n",
    "\n",
    "def compute_coherence_values(dictionary, corpus, texts, limit, start=4, step=2):\n",
    "\n",
    "    coherence_values = []\n",
    "    model_list = []\n",
    "    for num_topics in range(start, limit, step):\n",
    "        model = gensim.models.wrappers.LdaMallet(mallet_path, corpus=corpus, num_topics=num_topics, id2word=id2word)\n",
    "        model_list.append(model)\n",
    "        coherencemodel = CoherenceModel(model=model, texts=data_word, dictionary=dictionary, coherence='c_v')\n",
    "        coherence_values.append(coherencemodel.get_coherence())\n",
    "\n",
    "    return model_list, coherence_values"
   ]
  },
  {
   "cell_type": "code",
   "execution_count": 19,
   "id": "d933e7f9",
   "metadata": {},
   "outputs": [],
   "source": [
    "# Can take a long time to run.\n",
    "model_list, coherence_values = compute_coherence_values(dictionary=id2word, corpus=corpus, texts=texts, start=4, limit=21, step=2)"
   ]
  },
  {
   "cell_type": "code",
   "execution_count": 20,
   "id": "0ad93753",
   "metadata": {},
   "outputs": [
    {
     "name": "stdout",
     "output_type": "stream",
     "text": [
      "Num Topics = 4  has Coherence Value of 0.4108752429121144\n",
      "Num Topics = 6  has Coherence Value of 0.4704643595193254\n",
      "Num Topics = 8  has Coherence Value of 0.4740303653174151\n",
      "Num Topics = 10  has Coherence Value of 0.47346642981320636\n",
      "Num Topics = 12  has Coherence Value of 0.48393474556603416\n",
      "Num Topics = 14  has Coherence Value of 0.4570167194200458\n",
      "Num Topics = 16  has Coherence Value of 0.4752238360322591\n",
      "Num Topics = 18  has Coherence Value of 0.4933029804555654\n",
      "Num Topics = 20  has Coherence Value of 0.4815506709324727\n"
     ]
    }
   ],
   "source": [
    "\n",
    "limit=21; start=4; step=2;\n",
    "x = range(start, limit, step)\n",
    "topic_num = 0\n",
    "count = 0\n",
    "max_coherence = 0\n",
    "for m, cv in zip(x, coherence_values):\n",
    "    print(\"Num Topics =\", m, \" has Coherence Value of\", cv)\n",
    "    coherence = cv\n",
    "    if coherence >= max_coherence:\n",
    "        max_coherence = coherence\n",
    "        topic_num = m\n",
    "        model_list_num = count   \n",
    "    count = count+1\n",
    "\n",
    "        \n",
    "# Select the model and print the topics\n",
    "optimal_model = model_list[model_list_num]\n",
    "model_topics = optimal_model.show_topics(formatted=False)\n",
    "#print(optimal_model.print_topics(num_words=10))\n",
    "\n",
    "\n",
    "\n",
    "\n",
    "\n",
    "\n",
    "\n",
    "\n",
    "def format_topics_sentences(ldamodel=optimal_model, corpus=corpus, texts=texts):\n",
    "    # Init output\n",
    "    sent_topics_df = pd.DataFrame()\n",
    "\n",
    "    # Get main topic in each document\n",
    "    #ldamodel[corpus]: lda_model에 corpus를 넣어 각 토픽 당 확률을 알 수 있음\n",
    "    for i, row in enumerate(ldamodel[corpus]):\n",
    "        row = sorted(row, key=lambda x: (x[1]), reverse=True)\n",
    "        # Get the Dominant topic, Perc Contribution and Keywords for each document\n",
    "        for j, (topic_num, prop_topic) in enumerate(row):\n",
    "            if j == 0:  # => dominant topic\n",
    "                wp = ldamodel.show_topic(topic_num,topn=10)\n",
    "                topic_keywords = \", \".join([word for word, prop in wp])\n",
    "                sent_topics_df = sent_topics_df.append(pd.Series([int(topic_num), round(prop_topic,4), topic_keywords]), ignore_index=True)\n",
    "            else:\n",
    "                break\n",
    "    sent_topics_df.columns = ['Dominant_Topic', 'Perc_Contribution', 'Topic_Keywords']\n",
    "    print(type(sent_topics_df))\n",
    "\n",
    "    # Add original text to the end of the output\n",
    "    #contents = pd.Series(texts)\n",
    "    #sent_topics_df = pd.concat([sent_topics_df, contents], axis=1)\n",
    "    sent_topics_df = pd.concat([sent_topics_df, Data['리뷰내용'],Data['별점']], axis=1)\n",
    "    return(sent_topics_df)\n",
    "\n"
   ]
  },
  {
   "cell_type": "code",
   "execution_count": 21,
   "id": "3a4fb8ff",
   "metadata": {},
   "outputs": [
    {
     "name": "stdout",
     "output_type": "stream",
     "text": [
      "<class 'pandas.core.frame.DataFrame'>\n"
     ]
    }
   ],
   "source": [
    "df_topic_sents_keywords = format_topics_sentences(ldamodel=optimal_model, corpus=corpus, texts=Data_list)\n",
    "\n",
    "# Format\n",
    "df_topic_tweet = df_topic_sents_keywords.reset_index()\n",
    "df_topic_tweet.columns = ['Dominant_Topic', 'Topic_Perc_Contrib', 'Keywords','', '리뷰내용','별점']\n",
    "\n",
    "# Show각 문서에 대한 토픽\n",
    "#df_dominant_topic=df_dominant_topic.sort_values(by=['Dominant_Topic'])\n",
    "#df_topic_tweet\n",
    "\n",
    "\n",
    "\n",
    "# Group top 5 sentences under each topic\n",
    "sent_topics_sorteddf_mallet = pd.DataFrame()\n",
    "\n",
    "sent_topics_outdf_grpd = df_topic_sents_keywords.groupby('Dominant_Topic')\n",
    "\n",
    "for i, grp in sent_topics_outdf_grpd:\n",
    "    sent_topics_sorteddf_mallet = pd.concat([sent_topics_sorteddf_mallet, \n",
    "                                             grp.sort_values(['Perc_Contribution'], ascending=[0]).head(1)], \n",
    "                                            axis=0)\n",
    "\n",
    "# Reset Index    \n",
    "sent_topics_sorteddf_mallet.reset_index(drop=True, inplace=True)\n",
    "\n",
    "\n",
    "topic_counts = df_topic_sents_keywords['Dominant_Topic'].value_counts()\n",
    "topic_counts.sort_index(inplace=True)\n",
    "\n",
    "topic_contribution = round(topic_counts/topic_counts.sum(), 4)\n",
    "topic_contribution\n",
    "\n",
    "lda_inform = pd.concat([sent_topics_sorteddf_mallet, topic_counts, topic_contribution], axis=1)\n",
    "lda_inform.columns=[\"Topic_Num\", \"Topic_Perc_Contrib\", \"Keywords\", '리뷰내용','별점',\"Num_Documents\", \"Perc_Documents\"]\n",
    "lda_inform = lda_inform[[\"Topic_Num\",\"Keywords\",\"Num_Documents\",\"Perc_Documents\"]]\n",
    "lda_inform\n",
    "#lda_inform.Topic_Num = lda_inform.Topic_Num.astype(int)\n",
    "lda_inform['Topic_Num'] =lda_inform['Topic_Num'] +1\n",
    "lda_inform.Topic_Num = lda_inform.Topic_Num.astype(str)\n",
    "lda_inform['Topic_Num'] =lda_inform['Topic_Num'].str.split('.').str[0]\n",
    "df_topic_tweet['Dominant_Topic'] =df_topic_tweet['Dominant_Topic'] +1\n",
    "df_topic_tweet.Dominant_Topic = df_topic_tweet.Dominant_Topic.astype(str)\n",
    "df_topic_tweet['Dominant_Topic'] =df_topic_tweet['Dominant_Topic'].str.split('.').str[0]"
   ]
  },
  {
   "cell_type": "code",
   "execution_count": 23,
   "id": "e765b211",
   "metadata": {
    "scrolled": false
   },
   "outputs": [
    {
     "data": {
      "text/html": [
       "<div>\n",
       "<style scoped>\n",
       "    .dataframe tbody tr th:only-of-type {\n",
       "        vertical-align: middle;\n",
       "    }\n",
       "\n",
       "    .dataframe tbody tr th {\n",
       "        vertical-align: top;\n",
       "    }\n",
       "\n",
       "    .dataframe thead th {\n",
       "        text-align: right;\n",
       "    }\n",
       "</style>\n",
       "<table border=\"1\" class=\"dataframe\">\n",
       "  <thead>\n",
       "    <tr style=\"text-align: right;\">\n",
       "      <th></th>\n",
       "      <th>Topic_Num</th>\n",
       "      <th>Keywords</th>\n",
       "      <th>Num_Documents</th>\n",
       "      <th>Perc_Documents</th>\n",
       "    </tr>\n",
       "  </thead>\n",
       "  <tbody>\n",
       "    <tr>\n",
       "      <th>0.0</th>\n",
       "      <td>1</td>\n",
       "      <td>계좌, 뱅크, 글, 수, 때, 아이디, 핸드폰, 월, 부분, 필요</td>\n",
       "      <td>8</td>\n",
       "      <td>0.0816</td>\n",
       "    </tr>\n",
       "    <tr>\n",
       "      <th>1.0</th>\n",
       "      <td>2</td>\n",
       "      <td>등록, 페, 로그인, 공동인증서, 느낌, 네이버페, 사용, 듯, 정기구독, 주세</td>\n",
       "      <td>8</td>\n",
       "      <td>0.0816</td>\n",
       "    </tr>\n",
       "    <tr>\n",
       "      <th>2.0</th>\n",
       "      <td>3</td>\n",
       "      <td>공인인증서, 정보, 해지, 관리, 주세, 인, 하라, 자동, 때문, 이거</td>\n",
       "      <td>4</td>\n",
       "      <td>0.0408</td>\n",
       "    </tr>\n",
       "    <tr>\n",
       "      <th>3.0</th>\n",
       "      <td>4</td>\n",
       "      <td>번호, 아이디, 비밀번호, 비밀, 은행, 이용, 입력, 설정, 점, 핸드폰</td>\n",
       "      <td>10</td>\n",
       "      <td>0.1020</td>\n",
       "    </tr>\n",
       "    <tr>\n",
       "      <th>4.0</th>\n",
       "      <td>5</td>\n",
       "      <td>기능, 등록, 정기, 구독서비스, 동안, 경우, 하, 말, 어플, 연동</td>\n",
       "      <td>6</td>\n",
       "      <td>0.0612</td>\n",
       "    </tr>\n",
       "    <tr>\n",
       "      <th>5.0</th>\n",
       "      <td>6</td>\n",
       "      <td>결제, 구, 내역, 사, 입력, 사람, 월, 이거, 인, 때</td>\n",
       "      <td>2</td>\n",
       "      <td>0.0204</td>\n",
       "    </tr>\n",
       "    <tr>\n",
       "      <th>6.0</th>\n",
       "      <td>7</td>\n",
       "      <td>구독, 카드, 불편, 필요, 앱, 연결, 설정, 수동, 카드결제, 라</td>\n",
       "      <td>10</td>\n",
       "      <td>0.1020</td>\n",
       "    </tr>\n",
       "    <tr>\n",
       "      <th>7.0</th>\n",
       "      <td>8</td>\n",
       "      <td>안, 네이버, 리뷰, 구독, 계속, 자동, 때문, 별, 카카오페, 설정</td>\n",
       "      <td>2</td>\n",
       "      <td>0.0204</td>\n",
       "    </tr>\n",
       "    <tr>\n",
       "      <th>8.0</th>\n",
       "      <td>9</td>\n",
       "      <td>앱, 추가, 여, 구독정보, 단계, 별, 하나, 구독중, 네이버페, 구</td>\n",
       "      <td>4</td>\n",
       "      <td>0.0408</td>\n",
       "    </tr>\n",
       "    <tr>\n",
       "      <th>9.0</th>\n",
       "      <td>10</td>\n",
       "      <td>거, 건, 번, 인증, 전화, 결제, 점, 정기, 공동인증서, 필요</td>\n",
       "      <td>6</td>\n",
       "      <td>0.0612</td>\n",
       "    </tr>\n",
       "    <tr>\n",
       "      <th>10.0</th>\n",
       "      <td>11</td>\n",
       "      <td>중, 확인, 저, 구독중, 표시, 부분, 하라, 전화, 라, 별</td>\n",
       "      <td>4</td>\n",
       "      <td>0.0408</td>\n",
       "    </tr>\n",
       "    <tr>\n",
       "      <th>11.0</th>\n",
       "      <td>12</td>\n",
       "      <td>인증서, 공인, 수, 카드사, 개선, 수동, 핸드폰, 때, 부분, 아이디</td>\n",
       "      <td>6</td>\n",
       "      <td>0.0612</td>\n",
       "    </tr>\n",
       "    <tr>\n",
       "      <th>12.0</th>\n",
       "      <td>13</td>\n",
       "      <td>서비스, 개, 이, 공동, 느낌, 하나, 인식, 이거, 인, 별</td>\n",
       "      <td>5</td>\n",
       "      <td>0.0510</td>\n",
       "    </tr>\n",
       "    <tr>\n",
       "      <th>13.0</th>\n",
       "      <td>14</td>\n",
       "      <td>연동, 어플, 문의, 할려, 금액, 계좌번호, 돈, 이거, 카카오페이, 페</td>\n",
       "      <td>3</td>\n",
       "      <td>0.0306</td>\n",
       "    </tr>\n",
       "    <tr>\n",
       "      <th>14.0</th>\n",
       "      <td>15</td>\n",
       "      <td>인증, 데, 아무것, 단계, 사람, 별, 업데이트, 인증서, 카드, 카드결제</td>\n",
       "      <td>6</td>\n",
       "      <td>0.0612</td>\n",
       "    </tr>\n",
       "    <tr>\n",
       "      <th>15.0</th>\n",
       "      <td>16</td>\n",
       "      <td>사용, 인증번호, 삭제, 인식, 월, 듯, 수, 입력, 부분, 내역</td>\n",
       "      <td>4</td>\n",
       "      <td>0.0408</td>\n",
       "    </tr>\n",
       "    <tr>\n",
       "      <th>16.0</th>\n",
       "      <td>17</td>\n",
       "      <td>로그, 인, 때, 하면, 오류, 왓섭, 핸드폰, 공인, 부분, 로그인</td>\n",
       "      <td>3</td>\n",
       "      <td>0.0306</td>\n",
       "    </tr>\n",
       "    <tr>\n",
       "      <th>17.0</th>\n",
       "      <td>18</td>\n",
       "      <td>카카오, 카카오뱅크, 지원, 카카오페, 핸드폰, 때, 부분, 이거, 개선, 별</td>\n",
       "      <td>7</td>\n",
       "      <td>0.0714</td>\n",
       "    </tr>\n",
       "  </tbody>\n",
       "</table>\n",
       "</div>"
      ],
      "text/plain": [
       "     Topic_Num                                      Keywords  Num_Documents  \\\n",
       "0.0          1          계좌, 뱅크, 글, 수, 때, 아이디, 핸드폰, 월, 부분, 필요              8   \n",
       "1.0          2  등록, 페, 로그인, 공동인증서, 느낌, 네이버페, 사용, 듯, 정기구독, 주세              8   \n",
       "2.0          3      공인인증서, 정보, 해지, 관리, 주세, 인, 하라, 자동, 때문, 이거              4   \n",
       "3.0          4     번호, 아이디, 비밀번호, 비밀, 은행, 이용, 입력, 설정, 점, 핸드폰             10   \n",
       "4.0          5       기능, 등록, 정기, 구독서비스, 동안, 경우, 하, 말, 어플, 연동              6   \n",
       "5.0          6             결제, 구, 내역, 사, 입력, 사람, 월, 이거, 인, 때              2   \n",
       "6.0          7        구독, 카드, 불편, 필요, 앱, 연결, 설정, 수동, 카드결제, 라             10   \n",
       "7.0          8       안, 네이버, 리뷰, 구독, 계속, 자동, 때문, 별, 카카오페, 설정              2   \n",
       "8.0          9       앱, 추가, 여, 구독정보, 단계, 별, 하나, 구독중, 네이버페, 구              4   \n",
       "9.0         10         거, 건, 번, 인증, 전화, 결제, 점, 정기, 공동인증서, 필요              6   \n",
       "10.0        11           중, 확인, 저, 구독중, 표시, 부분, 하라, 전화, 라, 별              4   \n",
       "11.0        12      인증서, 공인, 수, 카드사, 개선, 수동, 핸드폰, 때, 부분, 아이디              6   \n",
       "12.0        13           서비스, 개, 이, 공동, 느낌, 하나, 인식, 이거, 인, 별              5   \n",
       "13.0        14     연동, 어플, 문의, 할려, 금액, 계좌번호, 돈, 이거, 카카오페이, 페              3   \n",
       "14.0        15    인증, 데, 아무것, 단계, 사람, 별, 업데이트, 인증서, 카드, 카드결제              6   \n",
       "15.0        16         사용, 인증번호, 삭제, 인식, 월, 듯, 수, 입력, 부분, 내역              4   \n",
       "16.0        17        로그, 인, 때, 하면, 오류, 왓섭, 핸드폰, 공인, 부분, 로그인              3   \n",
       "17.0        18   카카오, 카카오뱅크, 지원, 카카오페, 핸드폰, 때, 부분, 이거, 개선, 별              7   \n",
       "\n",
       "      Perc_Documents  \n",
       "0.0           0.0816  \n",
       "1.0           0.0816  \n",
       "2.0           0.0408  \n",
       "3.0           0.1020  \n",
       "4.0           0.0612  \n",
       "5.0           0.0204  \n",
       "6.0           0.1020  \n",
       "7.0           0.0204  \n",
       "8.0           0.0408  \n",
       "9.0           0.0612  \n",
       "10.0          0.0408  \n",
       "11.0          0.0612  \n",
       "12.0          0.0510  \n",
       "13.0          0.0306  \n",
       "14.0          0.0612  \n",
       "15.0          0.0408  \n",
       "16.0          0.0306  \n",
       "17.0          0.0714  "
      ]
     },
     "execution_count": 23,
     "metadata": {},
     "output_type": "execute_result"
    }
   ],
   "source": [
    "lda_inform.to_csv (\"lda_inform14.csv\",encoding='ANSI', index = None)\n",
    "lda_inform"
   ]
  },
  {
   "cell_type": "markdown",
   "id": "6e573702",
   "metadata": {},
   "source": [
    "## 시각화"
   ]
  },
  {
   "cell_type": "code",
   "execution_count": 22,
   "id": "517a189d",
   "metadata": {},
   "outputs": [],
   "source": [
    "#pip install wordcloud-1.7.0-cp38-cp38-win_amd64.whl\n"
   ]
  },
  {
   "cell_type": "code",
   "execution_count": 42,
   "id": "f9beb362",
   "metadata": {},
   "outputs": [],
   "source": [
    "import pickle\n",
    "import pyLDAvis.gensim_models as gensimvis\n",
    "import pyLDAvis\n",
    "from gensim.models.coherencemodel import CoherenceModel\n",
    "import matplotlib.pyplot as plt"
   ]
  },
  {
   "cell_type": "code",
   "execution_count": 71,
   "id": "1310567b",
   "metadata": {},
   "outputs": [],
   "source": [
    "processed_data=data_word\n",
    "num_topics = 5\n",
    "chunksize = 300\n",
    "passes = 20\n",
    "iterations = 400\n",
    "eval_every = None\n",
    "dictionary = corpora.Dictionary(processed_data)\n",
    "temp = dictionary[0]\n",
    "id2word = dictionary.id2token\n",
    "\n",
    "model = LdaModel(\n",
    "    corpus=corpus,\n",
    "    id2word=id2word,\n",
    "    chunksize=chunksize,\n",
    "    alpha='auto',\n",
    "    eta='auto',\n",
    "    iterations=iterations,\n",
    "    num_topics=num_topics,\n",
    "    passes=passes,\n",
    "    eval_every=eval_every\n",
    ")"
   ]
  },
  {
   "cell_type": "code",
   "execution_count": 72,
   "id": "858c8bd4",
   "metadata": {},
   "outputs": [],
   "source": [
    "lda_visualization = gensimvis.prepare(model, corpus, dictionary, sort_topics=False)\n",
    "pyLDAvis.save_html(lda_visualization, 'file_name.html')"
   ]
  },
  {
   "cell_type": "code",
   "execution_count": 55,
   "id": "04dba36d",
   "metadata": {},
   "outputs": [
    {
     "name": "stdout",
     "output_type": "stream",
     "text": [
      "Collecting pyLDAvis\n",
      "  Downloading pyLDAvis-3.3.1.tar.gz (1.7 MB)\n",
      "     ---------------------------------------- 1.7/1.7 MB 11.7 MB/s eta 0:00:00\n",
      "  Installing build dependencies: started\n",
      "  Installing build dependencies: finished with status 'done'\n",
      "  Getting requirements to build wheel: started\n",
      "  Getting requirements to build wheel: finished with status 'done'\n",
      "  Installing backend dependencies: started\n",
      "  Installing backend dependencies: finished with status 'done'\n",
      "  Preparing metadata (pyproject.toml): started\n",
      "  Preparing metadata (pyproject.toml): finished with status 'done'\n",
      "Requirement already satisfied: pandas>=1.2.0 in c:\\users\\scy02\\anaconda3\\lib\\site-packages (from pyLDAvis) (1.3.4)\n",
      "Requirement already satisfied: future in c:\\users\\scy02\\anaconda3\\lib\\site-packages (from pyLDAvis) (0.18.2)\n",
      "Collecting sklearn\n",
      "  Downloading sklearn-0.0.post1.tar.gz (3.6 kB)\n",
      "  Preparing metadata (setup.py): started\n",
      "  Preparing metadata (setup.py): finished with status 'done'\n",
      "Requirement already satisfied: scikit-learn in c:\\users\\scy02\\anaconda3\\lib\\site-packages (from pyLDAvis) (0.24.2)\n",
      "Requirement already satisfied: scipy in c:\\users\\scy02\\anaconda3\\lib\\site-packages (from pyLDAvis) (1.7.1)\n",
      "Requirement already satisfied: jinja2 in c:\\users\\scy02\\anaconda3\\lib\\site-packages (from pyLDAvis) (2.11.3)\n",
      "Requirement already satisfied: numpy>=1.20.0 in c:\\users\\scy02\\anaconda3\\lib\\site-packages (from pyLDAvis) (1.20.3)\n",
      "Requirement already satisfied: numexpr in c:\\users\\scy02\\anaconda3\\lib\\site-packages (from pyLDAvis) (2.7.3)\n",
      "Collecting funcy\n",
      "  Downloading funcy-1.17-py2.py3-none-any.whl (33 kB)\n",
      "Requirement already satisfied: setuptools in c:\\users\\scy02\\anaconda3\\lib\\site-packages (from pyLDAvis) (58.0.4)\n",
      "Collecting gensim\n",
      "  Downloading gensim-4.2.0-cp39-cp39-win_amd64.whl (23.9 MB)\n",
      "     --------------------------------------- 23.9/23.9 MB 11.1 MB/s eta 0:00:00\n",
      "Requirement already satisfied: joblib in c:\\users\\scy02\\anaconda3\\lib\\site-packages (from pyLDAvis) (1.1.0)\n",
      "Requirement already satisfied: python-dateutil>=2.7.3 in c:\\users\\scy02\\anaconda3\\lib\\site-packages (from pandas>=1.2.0->pyLDAvis) (2.8.2)\n",
      "Requirement already satisfied: pytz>=2017.3 in c:\\users\\scy02\\anaconda3\\lib\\site-packages (from pandas>=1.2.0->pyLDAvis) (2021.3)\n",
      "Collecting smart-open>=1.8.1\n",
      "  Downloading smart_open-6.2.0-py3-none-any.whl (58 kB)\n",
      "     ---------------------------------------- 58.6/58.6 kB ? eta 0:00:00\n",
      "Collecting Cython==0.29.28\n",
      "  Using cached Cython-0.29.28-py2.py3-none-any.whl (983 kB)\n",
      "Requirement already satisfied: MarkupSafe>=0.23 in c:\\users\\scy02\\anaconda3\\lib\\site-packages (from jinja2->pyLDAvis) (1.1.1)\n",
      "Requirement already satisfied: threadpoolctl>=2.0.0 in c:\\users\\scy02\\anaconda3\\lib\\site-packages (from scikit-learn->pyLDAvis) (2.2.0)\n",
      "Requirement already satisfied: six>=1.5 in c:\\users\\scy02\\anaconda3\\lib\\site-packages (from python-dateutil>=2.7.3->pandas>=1.2.0->pyLDAvis) (1.16.0)\n",
      "Building wheels for collected packages: pyLDAvis, sklearn\n",
      "  Building wheel for pyLDAvis (pyproject.toml): started\n",
      "  Building wheel for pyLDAvis (pyproject.toml): finished with status 'done'\n",
      "  Created wheel for pyLDAvis: filename=pyLDAvis-3.3.1-py2.py3-none-any.whl size=136904 sha256=84f77d528380fda7e1a35c25b91b62d15579e6f452e5d3bf7c59f6e4936f1d57\n",
      "  Stored in directory: c:\\users\\scy02\\appdata\\local\\pip\\cache\\wheels\\57\\a4\\86\\d10c6c2e0bf149fbc0afb0aa5a6528ac35b30a133a0270c477\n",
      "  Building wheel for sklearn (setup.py): started\n",
      "  Building wheel for sklearn (setup.py): finished with status 'done'\n",
      "  Created wheel for sklearn: filename=sklearn-0.0.post1-py3-none-any.whl size=2344 sha256=be62f104ef6bc940433b864eec526cdd48623f99ea8a360a79532c0d32b1aa6e\n",
      "  Stored in directory: c:\\users\\scy02\\appdata\\local\\pip\\cache\\wheels\\f8\\e0\\3d\\9d0c2020c44a519b9f02ab4fa6d2a4a996c98d79ab2f569fa1\n",
      "Successfully built pyLDAvis sklearn\n",
      "Installing collected packages: sklearn, funcy, smart-open, Cython, gensim, pyLDAvis\n",
      "  Attempting uninstall: Cython\n",
      "    Found existing installation: Cython 0.29.24\n",
      "    Uninstalling Cython-0.29.24:\n",
      "      Successfully uninstalled Cython-0.29.24\n",
      "Successfully installed Cython-0.29.28 funcy-1.17 gensim-4.2.0 pyLDAvis-3.3.1 sklearn-0.0.post1 smart-open-6.2.0\n",
      "Note: you may need to restart the kernel to use updated packages.\n"
     ]
    },
    {
     "name": "stderr",
     "output_type": "stream",
     "text": [
      "\n",
      "[notice] A new release of pip available: 22.2.2 -> 22.3.1\n",
      "[notice] To update, run: python.exe -m pip install --upgrade pip\n"
     ]
    }
   ],
   "source": [
    "#pip install pyLDAvis"
   ]
  }
 ],
 "metadata": {
  "kernelspec": {
   "display_name": "Python 3 (ipykernel)",
   "language": "python",
   "name": "python3"
  },
  "language_info": {
   "codemirror_mode": {
    "name": "ipython",
    "version": 3
   },
   "file_extension": ".py",
   "mimetype": "text/x-python",
   "name": "python",
   "nbconvert_exporter": "python",
   "pygments_lexer": "ipython3",
   "version": "3.9.7"
  }
 },
 "nbformat": 4,
 "nbformat_minor": 5
}
